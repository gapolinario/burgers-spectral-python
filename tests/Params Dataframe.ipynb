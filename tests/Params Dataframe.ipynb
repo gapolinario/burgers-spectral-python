{
 "cells": [
  {
   "cell_type": "code",
   "execution_count": 1,
   "id": "9cb3b67b",
   "metadata": {},
   "outputs": [],
   "source": [
    "# load all parameter files and build dataframe"
   ]
  },
  {
   "cell_type": "code",
   "execution_count": 12,
   "id": "e5f7bce0",
   "metadata": {},
   "outputs": [],
   "source": [
    "import numpy as np\n",
    "import pandas as pd\n",
    "from glob import glob\n",
    "import os\n",
    "import sys\n",
    "from json import load as json_load\n",
    "from pandas import DataFrame"
   ]
  },
  {
   "cell_type": "code",
   "execution_count": 21,
   "id": "c0fed918",
   "metadata": {},
   "outputs": [],
   "source": [
    "import qgrid"
   ]
  },
  {
   "cell_type": "code",
   "execution_count": 13,
   "id": "e23c4f2b",
   "metadata": {},
   "outputs": [],
   "source": [
    "from _functions import *"
   ]
  },
  {
   "cell_type": "code",
   "execution_count": 14,
   "id": "74d7b321",
   "metadata": {},
   "outputs": [],
   "source": [
    "# parent directory\n",
    "path = os.path.abspath(os.path.join(os.path.abspath(''), os.pardir))\n",
    "sys.path.append(path+'/scripts')"
   ]
  },
  {
   "cell_type": "code",
   "execution_count": 15,
   "id": "aa407de4",
   "metadata": {},
   "outputs": [],
   "source": [
    "# hashes are saved with 10 characters, hence 10 ?\n",
    "# is there a better way to do this without regex ?\n",
    "all_files = glob(f'{path}/data/params_??????????.json')\n",
    "all_files.sort()"
   ]
  },
  {
   "cell_type": "code",
   "execution_count": 16,
   "id": "d5c39284",
   "metadata": {},
   "outputs": [],
   "source": [
    "for file_path in all_files:\n",
    "    with open(file_path,'r') as file:\n",
    "        json_data = json_load(file)"
   ]
  },
  {
   "cell_type": "code",
   "execution_count": 17,
   "id": "066460e0",
   "metadata": {},
   "outputs": [],
   "source": [
    "for i,file_path in enumerate(all_files):\n",
    "    with open(file_path,'r') as file:\n",
    "        if i==0:\n",
    "            json_data = json_load(file)\n",
    "            df = DataFrame([json_data])\n",
    "        else:\n",
    "            json_data = json_load(file)\n",
    "            df.loc[i] = json_data"
   ]
  },
  {
   "cell_type": "code",
   "execution_count": 18,
   "id": "2f53a1f6",
   "metadata": {},
   "outputs": [
    {
     "data": {
      "text/html": [
       "<div>\n",
       "<style scoped>\n",
       "    .dataframe tbody tr th:only-of-type {\n",
       "        vertical-align: middle;\n",
       "    }\n",
       "\n",
       "    .dataframe tbody tr th {\n",
       "        vertical-align: top;\n",
       "    }\n",
       "\n",
       "    .dataframe thead th {\n",
       "        text-align: right;\n",
       "    }\n",
       "</style>\n",
       "<table border=\"1\" class=\"dataframe\">\n",
       "  <thead>\n",
       "    <tr style=\"text-align: right;\">\n",
       "      <th></th>\n",
       "      <th>BN</th>\n",
       "      <th>Lrelative</th>\n",
       "      <th>Ttotal</th>\n",
       "      <th>N</th>\n",
       "      <th>nu</th>\n",
       "      <th>Ltotal</th>\n",
       "      <th>L</th>\n",
       "      <th>sqeps</th>\n",
       "      <th>dx</th>\n",
       "      <th>NT</th>\n",
       "      <th>...</th>\n",
       "      <th>sqdx</th>\n",
       "      <th>cfl_const</th>\n",
       "      <th>dt</th>\n",
       "      <th>nlinear</th>\n",
       "      <th>fkernel</th>\n",
       "      <th>initial_value</th>\n",
       "      <th>scheme</th>\n",
       "      <th>saveformat</th>\n",
       "      <th>R</th>\n",
       "      <th>dict_hash</th>\n",
       "    </tr>\n",
       "  </thead>\n",
       "  <tbody>\n",
       "    <tr>\n",
       "      <th>0</th>\n",
       "      <td>8</td>\n",
       "      <td>0.125</td>\n",
       "      <td>10.0</td>\n",
       "      <td>256</td>\n",
       "      <td>0.01</td>\n",
       "      <td>1.0</td>\n",
       "      <td>0.125</td>\n",
       "      <td>1.0</td>\n",
       "      <td>0.003906</td>\n",
       "      <td>655360</td>\n",
       "      <td>...</td>\n",
       "      <td>0.0625</td>\n",
       "      <td>1.0</td>\n",
       "      <td>0.000015</td>\n",
       "      <td>False</td>\n",
       "      <td>zero_smooth_fourier_forcing</td>\n",
       "      <td>zero_initial</td>\n",
       "      <td>ETD</td>\n",
       "      <td>fourier</td>\n",
       "      <td>0</td>\n",
       "      <td>00393bf508</td>\n",
       "    </tr>\n",
       "    <tr>\n",
       "      <th>1</th>\n",
       "      <td>4</td>\n",
       "      <td>0.125</td>\n",
       "      <td>10.0</td>\n",
       "      <td>16</td>\n",
       "      <td>0.01</td>\n",
       "      <td>1.0</td>\n",
       "      <td>0.125</td>\n",
       "      <td>1.0</td>\n",
       "      <td>0.062500</td>\n",
       "      <td>25600</td>\n",
       "      <td>...</td>\n",
       "      <td>0.2500</td>\n",
       "      <td>0.1</td>\n",
       "      <td>0.000391</td>\n",
       "      <td>False</td>\n",
       "      <td>zero_smooth_fourier_forcing</td>\n",
       "      <td>zero_initial</td>\n",
       "      <td>ETD</td>\n",
       "      <td>fourier</td>\n",
       "      <td>0</td>\n",
       "      <td>007ad8ca93</td>\n",
       "    </tr>\n",
       "    <tr>\n",
       "      <th>2</th>\n",
       "      <td>8</td>\n",
       "      <td>0.125</td>\n",
       "      <td>1.0</td>\n",
       "      <td>256</td>\n",
       "      <td>0.01</td>\n",
       "      <td>1.0</td>\n",
       "      <td>0.125</td>\n",
       "      <td>1.0</td>\n",
       "      <td>0.003906</td>\n",
       "      <td>655360</td>\n",
       "      <td>...</td>\n",
       "      <td>0.0625</td>\n",
       "      <td>0.1</td>\n",
       "      <td>0.000002</td>\n",
       "      <td>True</td>\n",
       "      <td>zero_forcing</td>\n",
       "      <td>sine_initial</td>\n",
       "      <td>ETD</td>\n",
       "      <td>real</td>\n",
       "      <td>0</td>\n",
       "      <td>5c839169f0</td>\n",
       "    </tr>\n",
       "    <tr>\n",
       "      <th>3</th>\n",
       "      <td>8</td>\n",
       "      <td>0.125</td>\n",
       "      <td>10.0</td>\n",
       "      <td>256</td>\n",
       "      <td>0.01</td>\n",
       "      <td>1.0</td>\n",
       "      <td>0.125</td>\n",
       "      <td>1.0</td>\n",
       "      <td>0.003906</td>\n",
       "      <td>655360</td>\n",
       "      <td>...</td>\n",
       "      <td>0.0625</td>\n",
       "      <td>1.0</td>\n",
       "      <td>0.000015</td>\n",
       "      <td>True</td>\n",
       "      <td>white_fourier_forcing</td>\n",
       "      <td>zero_initial</td>\n",
       "      <td>ETD</td>\n",
       "      <td>fourier</td>\n",
       "      <td>0</td>\n",
       "      <td>74b72d28ec</td>\n",
       "    </tr>\n",
       "  </tbody>\n",
       "</table>\n",
       "<p>4 rows × 22 columns</p>\n",
       "</div>"
      ],
      "text/plain": [
       "   BN  Lrelative  Ttotal    N    nu  Ltotal      L  sqeps        dx      NT  \\\n",
       "0   8      0.125    10.0  256  0.01     1.0  0.125    1.0  0.003906  655360   \n",
       "1   4      0.125    10.0   16  0.01     1.0  0.125    1.0  0.062500   25600   \n",
       "2   8      0.125     1.0  256  0.01     1.0  0.125    1.0  0.003906  655360   \n",
       "3   8      0.125    10.0  256  0.01     1.0  0.125    1.0  0.003906  655360   \n",
       "\n",
       "   ...    sqdx  cfl_const        dt  nlinear                      fkernel  \\\n",
       "0  ...  0.0625        1.0  0.000015    False  zero_smooth_fourier_forcing   \n",
       "1  ...  0.2500        0.1  0.000391    False  zero_smooth_fourier_forcing   \n",
       "2  ...  0.0625        0.1  0.000002     True                 zero_forcing   \n",
       "3  ...  0.0625        1.0  0.000015     True        white_fourier_forcing   \n",
       "\n",
       "  initial_value scheme saveformat  R   dict_hash  \n",
       "0  zero_initial    ETD    fourier  0  00393bf508  \n",
       "1  zero_initial    ETD    fourier  0  007ad8ca93  \n",
       "2  sine_initial    ETD       real  0  5c839169f0  \n",
       "3  zero_initial    ETD    fourier  0  74b72d28ec  \n",
       "\n",
       "[4 rows x 22 columns]"
      ]
     },
     "execution_count": 18,
     "metadata": {},
     "output_type": "execute_result"
    }
   ],
   "source": [
    "df"
   ]
  },
  {
   "cell_type": "code",
   "execution_count": 22,
   "id": "cc8fa22b",
   "metadata": {
    "scrolled": true
   },
   "outputs": [
    {
     "data": {
      "application/vnd.jupyter.widget-view+json": {
       "model_id": "6ac305227b6c4f34a010685eb7a9078d",
       "version_major": 2,
       "version_minor": 0
      },
      "text/plain": [
       "QgridWidget(grid_options={'fullWidthRows': True, 'syncColumnCellResize': True, 'forceFitColumns': True, 'defau…"
      ]
     },
     "metadata": {},
     "output_type": "display_data"
    }
   ],
   "source": [
    "widget = qgrid.show_grid(df)\n",
    "widget"
   ]
  },
  {
   "cell_type": "code",
   "execution_count": null,
   "id": "bac4f928",
   "metadata": {},
   "outputs": [],
   "source": []
  }
 ],
 "metadata": {
  "kernelspec": {
   "display_name": "Python 3 (ipykernel)",
   "language": "python",
   "name": "python3"
  },
  "language_info": {
   "codemirror_mode": {
    "name": "ipython",
    "version": 3
   },
   "file_extension": ".py",
   "mimetype": "text/x-python",
   "name": "python",
   "nbconvert_exporter": "python",
   "pygments_lexer": "ipython3",
   "version": "3.9.15"
  }
 },
 "nbformat": 4,
 "nbformat_minor": 5
}

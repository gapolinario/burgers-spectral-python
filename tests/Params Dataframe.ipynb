{
 "cells": [
  {
   "cell_type": "code",
   "execution_count": 1,
   "id": "9cb3b67b",
   "metadata": {},
   "outputs": [],
   "source": [
    "# load all parameter files and build dataframe"
   ]
  },
  {
   "cell_type": "code",
   "execution_count": 23,
   "id": "e5f7bce0",
   "metadata": {},
   "outputs": [],
   "source": [
    "import numpy as np\n",
    "import pandas as pd\n",
    "from glob import glob\n",
    "import os\n",
    "import sys\n",
    "from json import load as json_load"
   ]
  },
  {
   "cell_type": "code",
   "execution_count": 4,
   "id": "74d7b321",
   "metadata": {},
   "outputs": [],
   "source": [
    "# parent directory\n",
    "path = os.path.abspath(os.path.join(os.path.abspath(''), os.pardir))\n",
    "sys.path.append(path+'/scripts')"
   ]
  },
  {
   "cell_type": "code",
   "execution_count": 18,
   "id": "aa407de4",
   "metadata": {},
   "outputs": [],
   "source": [
    "# hashes are saved with 10 characters, hence 10 ?\n",
    "# is there a better way to do this without regex ?\n",
    "all_files = glob(f'{path}/data/params_??????????.json')\n",
    "all_files.sort()"
   ]
  },
  {
   "cell_type": "code",
   "execution_count": 32,
   "id": "d5c39284",
   "metadata": {},
   "outputs": [],
   "source": [
    "for file_path in all_files:\n",
    "    with open(file_path,'r') as file:\n",
    "        json_data = json_load(file)"
   ]
  },
  {
   "cell_type": "code",
   "execution_count": 35,
   "id": "066460e0",
   "metadata": {},
   "outputs": [],
   "source": [
    "df = pd.DataFrame([json_data])"
   ]
  },
  {
   "cell_type": "code",
   "execution_count": 36,
   "id": "2f53a1f6",
   "metadata": {},
   "outputs": [
    {
     "data": {
      "text/html": [
       "<div>\n",
       "<style scoped>\n",
       "    .dataframe tbody tr th:only-of-type {\n",
       "        vertical-align: middle;\n",
       "    }\n",
       "\n",
       "    .dataframe tbody tr th {\n",
       "        vertical-align: top;\n",
       "    }\n",
       "\n",
       "    .dataframe thead th {\n",
       "        text-align: right;\n",
       "    }\n",
       "</style>\n",
       "<table border=\"1\" class=\"dataframe\">\n",
       "  <thead>\n",
       "    <tr style=\"text-align: right;\">\n",
       "      <th></th>\n",
       "      <th>R</th>\n",
       "      <th>BN</th>\n",
       "      <th>Lrelative</th>\n",
       "      <th>Ttotal</th>\n",
       "      <th>N</th>\n",
       "      <th>nu</th>\n",
       "      <th>Ltotal</th>\n",
       "      <th>L</th>\n",
       "      <th>sqeps</th>\n",
       "      <th>dx</th>\n",
       "      <th>...</th>\n",
       "      <th>NTsave</th>\n",
       "      <th>viscte</th>\n",
       "      <th>sqdx</th>\n",
       "      <th>cfl_const</th>\n",
       "      <th>dt</th>\n",
       "      <th>nlinear</th>\n",
       "      <th>fkernel</th>\n",
       "      <th>initial_value</th>\n",
       "      <th>scheme</th>\n",
       "      <th>saveformat</th>\n",
       "    </tr>\n",
       "  </thead>\n",
       "  <tbody>\n",
       "    <tr>\n",
       "      <th>0</th>\n",
       "      <td>90000</td>\n",
       "      <td>8</td>\n",
       "      <td>0.125</td>\n",
       "      <td>1.0</td>\n",
       "      <td>256</td>\n",
       "      <td>0.01</td>\n",
       "      <td>1.0</td>\n",
       "      <td>0.125</td>\n",
       "      <td>1.0</td>\n",
       "      <td>0.003906</td>\n",
       "      <td>...</td>\n",
       "      <td>100</td>\n",
       "      <td>0.394784</td>\n",
       "      <td>0.0625</td>\n",
       "      <td>0.1</td>\n",
       "      <td>0.000002</td>\n",
       "      <td>True</td>\n",
       "      <td>zero_forcing</td>\n",
       "      <td>sine_initial</td>\n",
       "      <td>ETD</td>\n",
       "      <td>real</td>\n",
       "    </tr>\n",
       "  </tbody>\n",
       "</table>\n",
       "<p>1 rows × 21 columns</p>\n",
       "</div>"
      ],
      "text/plain": [
       "       R  BN  Lrelative  Ttotal    N    nu  Ltotal      L  sqeps        dx  \\\n",
       "0  90000   8      0.125     1.0  256  0.01     1.0  0.125    1.0  0.003906   \n",
       "\n",
       "   ...  NTsave    viscte    sqdx  cfl_const        dt  nlinear       fkernel  \\\n",
       "0  ...     100  0.394784  0.0625        0.1  0.000002     True  zero_forcing   \n",
       "\n",
       "  initial_value scheme saveformat  \n",
       "0  sine_initial    ETD       real  \n",
       "\n",
       "[1 rows x 21 columns]"
      ]
     },
     "execution_count": 36,
     "metadata": {},
     "output_type": "execute_result"
    }
   ],
   "source": [
    "df"
   ]
  },
  {
   "cell_type": "code",
   "execution_count": null,
   "id": "b4b07e16",
   "metadata": {},
   "outputs": [],
   "source": []
  }
 ],
 "metadata": {
  "kernelspec": {
   "display_name": "Python 3 (ipykernel)",
   "language": "python",
   "name": "python3"
  },
  "language_info": {
   "codemirror_mode": {
    "name": "ipython",
    "version": 3
   },
   "file_extension": ".py",
   "mimetype": "text/x-python",
   "name": "python",
   "nbconvert_exporter": "python",
   "pygments_lexer": "ipython3",
   "version": "3.9.15"
  }
 },
 "nbformat": 4,
 "nbformat_minor": 5
}

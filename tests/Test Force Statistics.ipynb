{
 "cells": [
  {
   "cell_type": "code",
   "execution_count": 15,
   "id": "05cc7c00",
   "metadata": {},
   "outputs": [],
   "source": [
    "import numpy as np\n",
    "import matplotlib.pyplot as plt\n",
    "import sys\n",
    "from numpy import pi,sqrt,exp,sin,cos,power\n",
    "from numpy.fft import fft,ifft,fftshift,fft2,ifft2\n",
    "#from scipy.special import i0,i1"
   ]
  },
  {
   "cell_type": "code",
   "execution_count": 31,
   "id": "1c43e7c4",
   "metadata": {},
   "outputs": [],
   "source": [
    "BN=6\n",
    "Lrelative = 1./16.\n",
    "\n",
    "N = 2**BN\n",
    "Ltotal=1.\n",
    "dx=Ltotal/N\n",
    "L = Ltotal*Lrelative\n",
    "\n",
    "dx = L/N\n",
    "sqdx = dx"
   ]
  },
  {
   "cell_type": "code",
   "execution_count": 32,
   "id": "571c92b4",
   "metadata": {},
   "outputs": [],
   "source": [
    "X = np.fft.fftfreq(N) * Ltotal\n",
    "RX,RY = np.meshgrid(X,X)\n",
    "K = np.fft.fftfreq(N) * N\n",
    "KX,KY = np.meshgrid(K,K)\n",
    "K2 = KX*KX+KY*KY\n",
    "X2 = RX*RX+RY*RY"
   ]
  },
  {
   "cell_type": "code",
   "execution_count": 33,
   "id": "d7c05274",
   "metadata": {},
   "outputs": [],
   "source": [
    "def KernelFunctionFourier(k):\n",
    "    \n",
    "    return 4.*L**4*pi**3*k**2*exp(-2*pi**2*L**2*k**2)\n",
    "\n",
    "def RadialSpecForce(k):\n",
    "    \n",
    "    return 2.*pi*k*KernelFunctionFourier(k)"
   ]
  },
  {
   "cell_type": "code",
   "execution_count": 34,
   "id": "1e7c6975",
   "metadata": {},
   "outputs": [],
   "source": [
    "kernel = (1.-.5*X2/L**2)*np.exp(-.5*X2/L/L) # exponential correlation function\n",
    "kernel = sqrt( fft2(kernel) )\n",
    "kernel[0,0] = 0."
   ]
  },
  {
   "cell_type": "code",
   "execution_count": 35,
   "id": "af3c8c1d",
   "metadata": {},
   "outputs": [],
   "source": [
    "# new time, new forcing\n",
    "f0 = np.random.normal(size=(N,N)) * sqdx\n",
    "f0 = kernel * fft2(f0)"
   ]
  },
  {
   "cell_type": "code",
   "execution_count": 36,
   "id": "aa2050ad",
   "metadata": {},
   "outputs": [],
   "source": [
    "# related to radial binned radial spectrum\n",
    "AbsK = sqrt(K2)\n",
    "# final results will be stored here\n",
    "kmax = int(sqrt(2.)*(N//2))\n",
    "numk = N # number of fourier shells\n",
    "dk = (kmax-1.)/numk\n",
    "kvals = np.arange(1.,kmax,dk)\n",
    "\n",
    "# related to exhaustive search radial spectrum\n",
    "KPairs = np.array([[ np.sqrt(ki**2 + kj**2) for ki in K ] for kj in K ])\n",
    "KvalsAll = np.unique(KPairs)\n",
    "KCount = np.array( [np.count_nonzero(KPairs == k) for k in KvalsAll ] )\n",
    "KIndex = np.array( [[ np.where( KvalsAll == KPairs[i,j] )[0][0] for i in range(N)] for j in range(N)])"
   ]
  },
  {
   "cell_type": "code",
   "execution_count": 40,
   "id": "78d7a49a",
   "metadata": {},
   "outputs": [],
   "source": [
    "def CalcSpecRadialBins(v0):\n",
    "# v0 in Fourier space\n",
    "\n",
    "    Spec = np.zeros(numk)\n",
    "    \n",
    "    # i: loop over different shells in ||K||\n",
    "    for i,ki in enumerate(np.arange(1.,kmax,dk)):\n",
    "\n",
    "        shell = np.nonzero( (AbsK >= ki) & (AbsK < ki+dk) )\n",
    "\n",
    "        Spec[i] += ki * np.mean( (np.abs(v0)**2)[shell] )\n",
    "            \n",
    "    return Spec\n",
    "\n",
    "\n",
    "def CalcSpecRadialSearch(v0):\n",
    "# v0 in Fourier space\n",
    "\n",
    "    Spec  = np.zeros(len(KvalsAll))\n",
    "    \n",
    "    for i in range(N):\n",
    "        for j in range(N):\n",
    "            Spec[KIndex[i,j]] += KvalsAll[KIndex[i,j]] * np.abs(v0[i,j])**2\n",
    "            \n",
    "    Spec *= 1. / KCount\n",
    "                            \n",
    "    return Spec"
   ]
  },
  {
   "cell_type": "code",
   "execution_count": 42,
   "id": "b0c6c8eb",
   "metadata": {},
   "outputs": [
    {
     "data": {
      "image/png": "[encoded data removed]",
      "text/plain": [
       "<Figure size 720x432 with 1 Axes>"
      ]
     },
     "metadata": {
      "needs_background": "light"
     },
     "output_type": "display_data"
    }
   ],
   "source": [
    "Spec1Bins = CalcSpecRadialBins(    f0 )\n",
    "Spec1Srch = CalcSpecRadialSearch(  f0 )\n",
    "\n",
    "fig, axs = plt.subplots(1,1,figsize=(10,6))\n",
    "\n",
    "axs.plot(KvalsAll, Spec1Srch, color='b', label='search')\n",
    "axs.plot(kvals, Spec1Bins, color='r', label='bins')\n",
    "axs.plot(kvals, RadialSpecForce(kvals), color='k', linestyle='dashed')\n",
    "\n",
    "axs.set_ylim((1e-20,1e15))\n",
    "axs.set_ylabel(r'Power spectrum')\n",
    "axs.set_xlabel(r'$k$')\n",
    "axs.set_yscale('log')\n",
    "axs.set_xscale('log')\n",
    "plt.legend()\n",
    "plt.show()"
   ]
  },
  {
   "cell_type": "code",
   "execution_count": 44,
   "id": "ea5df4bd",
   "metadata": {},
   "outputs": [],
   "source": [
    "from scipy import interpolate"
   ]
  },
  {
   "cell_type": "code",
   "execution_count": 46,
   "id": "d1585423",
   "metadata": {},
   "outputs": [],
   "source": [
    "# 2d interpolation\n",
    "\n",
    "f_real_interpolated = interpolate.interp2d(K, K, np.real(f0), kind='cubic')\n",
    "f_imag_interpolated = interpolate.interp2d(K, K, np.imag(f0), kind='cubic')"
   ]
  },
  {
   "cell_type": "code",
   "execution_count": 49,
   "id": "e958c6aa",
   "metadata": {},
   "outputs": [
    {
     "ename": "TypeError",
     "evalue": "__call__() missing 1 required positional argument: 'y'",
     "output_type": "error",
     "traceback": [
      "\u001b[0;31m---------------------------------------------------------------------------\u001b[0m",
      "\u001b[0;31mTypeError\u001b[0m                                 Traceback (most recent call last)",
      "Input \u001b[0;32mIn [49]\u001b[0m, in \u001b[0;36m<cell line: 1>\u001b[0;34m()\u001b[0m\n\u001b[0;32m----> 1\u001b[0m \u001b[43mf_real_interpolated\u001b[49m\u001b[43m(\u001b[49m\u001b[43m(\u001b[49m\u001b[38;5;241;43m0.1\u001b[39;49m\u001b[43m,\u001b[49m\u001b[38;5;241;43m0.2\u001b[39;49m\u001b[43m)\u001b[49m\u001b[43m)\u001b[49m\n",
      "\u001b[0;31mTypeError\u001b[0m: __call__() missing 1 required positional argument: 'y'"
     ]
    }
   ],
   "source": [
    "f_real_interpolated((0.1,0.2))"
   ]
  },
  {
   "cell_type": "code",
   "execution_count": null,
   "id": "b2db8359",
   "metadata": {},
   "outputs": [],
   "source": []
  }
 ],
 "metadata": {
  "kernelspec": {
   "display_name": "Python 3 (ipykernel)",
   "language": "python",
   "name": "python3"
  },
  "language_info": {
   "codemirror_mode": {
    "name": "ipython",
    "version": 3
   },
   "file_extension": ".py",
   "mimetype": "text/x-python",
   "name": "python",
   "nbconvert_exporter": "python",
   "pygments_lexer": "ipython3",
   "version": "3.9.15"
  }
 },
 "nbformat": 4,
 "nbformat_minor": 5
}
